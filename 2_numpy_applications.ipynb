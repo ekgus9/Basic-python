{
  "nbformat": 4,
  "nbformat_minor": 0,
  "metadata": {
    "colab": {
      "name": "2_numpy_applications.ipynb",
      "provenance": [],
      "authorship_tag": "ABX9TyPpI4Y3Fhf5Yv7F1ups0DdN"
    },
    "kernelspec": {
      "name": "python3",
      "display_name": "Python 3"
    },
    "language_info": {
      "name": "python"
    }
  },
  "cells": [
    {
      "cell_type": "code",
      "metadata": {
        "id": "eCUGVw8LNR8b"
      },
      "source": [
        "import numpy as np"
      ],
      "execution_count": 2,
      "outputs": []
    },
    {
      "cell_type": "code",
      "metadata": {
        "colab": {
          "base_uri": "https://localhost:8080/"
        },
        "id": "gu4d1hKWLmKb",
        "outputId": "1cf744fd-fcce-4f23-8380-262c8a2e0080"
      },
      "source": [
        "# 배열 산술 연산\n",
        "x = np.arange(4)\n",
        "print(x + 10)\n",
        "print(x * 2)\n",
        "print(x // 2) # 몫만 산출\n",
        "print(x % 2) # 나머지\n",
        "\n",
        "# 이외에도 복소수, 삼각함수, 역삼각함수, 지수함수(np.exp(x),np.power(3,x)->3^x) 등 제공"
      ],
      "execution_count": 4,
      "outputs": [
        {
          "output_type": "stream",
          "name": "stdout",
          "text": [
            "[10 11 12 13]\n",
            "[0 2 4 6]\n",
            "[0 0 1 1]\n",
            "[0 1 0 1]\n"
          ]
        }
      ]
    },
    {
      "cell_type": "code",
      "metadata": {
        "colab": {
          "base_uri": "https://localhost:8080/"
        },
        "id": "VvFUVhK_NdiK",
        "outputId": "1dc8cd72-2974-4d2f-9265-4a3c7e15b191"
      },
      "source": [
        "# out 인자 # out에 결과 저장 # 시간 절감\n",
        "x = np.arange(5)\n",
        "y= np.zeros(5)\n",
        "print(y)\n",
        "\n",
        "np.log(x,out = y)\n",
        "print(y)"
      ],
      "execution_count": 15,
      "outputs": [
        {
          "output_type": "stream",
          "name": "stdout",
          "text": [
            "[0. 0. 0. 0. 0.]\n",
            "[      -inf 0.         0.69314718 1.09861229 1.38629436]\n"
          ]
        },
        {
          "output_type": "stream",
          "name": "stderr",
          "text": [
            "/usr/local/lib/python3.7/dist-packages/ipykernel_launcher.py:6: RuntimeWarning: divide by zero encountered in log\n",
            "  \n"
          ]
        }
      ]
    },
    {
      "cell_type": "code",
      "metadata": {
        "colab": {
          "base_uri": "https://localhost:8080/"
        },
        "id": "ryYy3k9xbCAE",
        "outputId": "851e5200-57fb-42d2-a199-8e356d8cfb65"
      },
      "source": [
        "x = np.arange(1,5)\n",
        "print(np.add.reduce(x)) # 연산 반복 적용\n",
        "print(np.sum(x))\n",
        "print(np.max(x))\n",
        "print(x.min(axis = 0)) # None은 전체"
      ],
      "execution_count": 22,
      "outputs": [
        {
          "output_type": "stream",
          "name": "stdout",
          "text": [
            "10\n",
            "10\n",
            "4\n",
            "1\n"
          ]
        }
      ]
    },
    {
      "cell_type": "code",
      "metadata": {
        "id": "-WRAgT5ic18z"
      },
      "source": [
        "# 브로드캐스팅 연산: 다른 크기의 리스트끼리도 연산 수행 가능 # 높은 차원에 맞춤"
      ],
      "execution_count": null,
      "outputs": []
    },
    {
      "cell_type": "code",
      "metadata": {
        "colab": {
          "base_uri": "https://localhost:8080/"
        },
        "id": "UAcNzxyOetCy",
        "outputId": "df66cc1e-853f-4d97-e29c-acf9234fe9f1"
      },
      "source": [
        "# 비교연산자\n",
        "x = np.arange(10)\n",
        "print(np.any(x<5)) # or\n",
        "print(np.all(x<5)) # and\n",
        "\n",
        "# np.equal, not_equal, less, less_equal, greater, greater_equal"
      ],
      "execution_count": 24,
      "outputs": [
        {
          "output_type": "execute_result",
          "data": {
            "text/plain": [
              "False"
            ]
          },
          "metadata": {},
          "execution_count": 24
        }
      ]
    },
    {
      "cell_type": "code",
      "metadata": {
        "colab": {
          "base_uri": "https://localhost:8080/"
        },
        "id": "ZEFP7y9TgCLm",
        "outputId": "e48f94fd-f9fb-46a5-a6b4-98b059fd23a0"
      },
      "source": [
        "# 팬시 인덱싱\n",
        "a = np.arange(10)\n",
        "b = np.array([3,6,9])\n",
        "a[b]"
      ],
      "execution_count": 25,
      "outputs": [
        {
          "output_type": "execute_result",
          "data": {
            "text/plain": [
              "array([3, 6, 9])"
            ]
          },
          "metadata": {},
          "execution_count": 25
        }
      ]
    },
    {
      "cell_type": "code",
      "metadata": {
        "colab": {
          "base_uri": "https://localhost:8080/"
        },
        "id": "aPNiNSPOgn6D",
        "outputId": "7a69e79f-9f38-4d84-ac73-a8d52705a3d7"
      },
      "source": [
        "# 정렬\n",
        "x = np.array([3,2,1])\n",
        "print(np.sort(x))\n",
        "x.sort() # x 자체가 바뀜\n",
        "print(np.argsort(x)) # 정렬된 요소의 인덱스 반환\n",
        "\n",
        "# 내림차순 정렬\n",
        "print(np.sort(x)[::-1])\n",
        "\n",
        "# 다차원 배열 정렬\n",
        "x = np.array([[2,0,6],[7,3,4]])\n",
        "print(np.sort(x,axis=0)) # 열 기준 정렬"
      ],
      "execution_count": 31,
      "outputs": [
        {
          "output_type": "stream",
          "name": "stdout",
          "text": [
            "[1 2 3]\n",
            "[0 1 2]\n",
            "[3 2 1]\n",
            "[[2 0 4]\n",
            " [7 3 6]]\n"
          ]
        }
      ]
    }
  ]
}