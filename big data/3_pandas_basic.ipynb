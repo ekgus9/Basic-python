{
  "nbformat": 4,
  "nbformat_minor": 0,
  "metadata": {
    "colab": {
      "name": "3_pandas_basic.ipynb",
      "provenance": [],
      "authorship_tag": "ABX9TyO1J2oyhSxiuUF8ATzR9Gcr"
    },
    "kernelspec": {
      "name": "python3",
      "display_name": "Python 3"
    },
    "language_info": {
      "name": "python"
    }
  },
  "cells": [
    {
      "cell_type": "markdown",
      "metadata": {
        "id": "jFZxAPITjBm7"
      },
      "source": [
        "#**Pandas** "
      ]
    },
    {
      "cell_type": "code",
      "metadata": {
        "id": "GhcQrJEu9005"
      },
      "source": [
        "import numpy as np\n",
        "import pandas as pd"
      ],
      "execution_count": 4,
      "outputs": []
    },
    {
      "cell_type": "code",
      "metadata": {
        "id": "KotrrYeh95g6"
      },
      "source": [
        "# series : 1차원 배열 형태\n",
        "# dataframe : 2차원 배열 구조 / 각 열이 시리즈"
      ],
      "execution_count": 5,
      "outputs": []
    },
    {
      "cell_type": "code",
      "metadata": {
        "colab": {
          "base_uri": "https://localhost:8080/"
        },
        "id": "-dVdkR5u-1sZ",
        "outputId": "e1af49a6-2f1f-4b9d-e496-6a5bbc32e70e"
      },
      "source": [
        "# Series\n",
        "data = pd.Series([1,2,3,4,6])\n",
        "data.values"
      ],
      "execution_count": 9,
      "outputs": [
        {
          "output_type": "execute_result",
          "data": {
            "text/plain": [
              "array([1, 2, 3, 4, 6])"
            ]
          },
          "metadata": {},
          "execution_count": 9
        }
      ]
    },
    {
      "cell_type": "code",
      "metadata": {
        "colab": {
          "base_uri": "https://localhost:8080/"
        },
        "id": "GmR-N47C_uum",
        "outputId": "b2adeb2d-b94b-49b5-bcbb-12e9c1c5ba4c"
      },
      "source": [
        "data.index"
      ],
      "execution_count": 10,
      "outputs": [
        {
          "output_type": "execute_result",
          "data": {
            "text/plain": [
              "RangeIndex(start=0, stop=5, step=1)"
            ]
          },
          "metadata": {},
          "execution_count": 10
        }
      ]
    },
    {
      "cell_type": "code",
      "metadata": {
        "colab": {
          "base_uri": "https://localhost:8080/"
        },
        "id": "XUpLVntv_4L-",
        "outputId": "f50f1759-7f50-4a6e-8659-0624bd1d7931"
      },
      "source": [
        "data[1:3]"
      ],
      "execution_count": 11,
      "outputs": [
        {
          "output_type": "execute_result",
          "data": {
            "text/plain": [
              "1    2\n",
              "2    3\n",
              "dtype: int64"
            ]
          },
          "metadata": {},
          "execution_count": 11
        }
      ]
    },
    {
      "cell_type": "code",
      "metadata": {
        "colab": {
          "base_uri": "https://localhost:8080/"
        },
        "id": "qGESTjEo_7oV",
        "outputId": "fdf0a0a8-5a6c-439d-f37e-cf45f2578bcc"
      },
      "source": [
        "d1 = pd.Series([1,2,3],index = (['a','b','c']))\n",
        "d1['b']"
      ],
      "execution_count": 13,
      "outputs": [
        {
          "output_type": "execute_result",
          "data": {
            "text/plain": [
              "2"
            ]
          },
          "metadata": {},
          "execution_count": 13
        }
      ]
    },
    {
      "cell_type": "code",
      "metadata": {
        "colab": {
          "base_uri": "https://localhost:8080/"
        },
        "id": "xo4mjvFqAPje",
        "outputId": "ddf5ae3c-521b-4817-a6a3-936d58981ed8"
      },
      "source": [
        "# 딕셔너리\n",
        "population_dict = {'C':123, 'T':244, 'N':142}\n",
        "population = pd.Series(population_dict)\n",
        "population"
      ],
      "execution_count": 16,
      "outputs": [
        {
          "output_type": "execute_result",
          "data": {
            "text/plain": [
              "C    123\n",
              "T    244\n",
              "N    142\n",
              "dtype: int64"
            ]
          },
          "metadata": {},
          "execution_count": 16
        }
      ]
    },
    {
      "cell_type": "code",
      "metadata": {
        "colab": {
          "base_uri": "https://localhost:8080/"
        },
        "id": "o8PDkmWtBNIw",
        "outputId": "802410fb-ab75-4b11-ed8e-a08fe6cae9a9"
      },
      "source": [
        "population['C':'T']"
      ],
      "execution_count": 17,
      "outputs": [
        {
          "output_type": "execute_result",
          "data": {
            "text/plain": [
              "C    123\n",
              "T    244\n",
              "dtype: int64"
            ]
          },
          "metadata": {},
          "execution_count": 17
        }
      ]
    },
    {
      "cell_type": "code",
      "metadata": {
        "colab": {
          "base_uri": "https://localhost:8080/"
        },
        "id": "lb-49psVBT0g",
        "outputId": "f9c66692-8b8e-4122-fe34-edac91950dde"
      },
      "source": [
        "pd.Series({2:'a',1:'b'},index = [1])"
      ],
      "execution_count": 18,
      "outputs": [
        {
          "output_type": "execute_result",
          "data": {
            "text/plain": [
              "1    b\n",
              "dtype: object"
            ]
          },
          "metadata": {},
          "execution_count": 18
        }
      ]
    },
    {
      "cell_type": "code",
      "metadata": {
        "colab": {
          "base_uri": "https://localhost:8080/",
          "height": 141
        },
        "id": "tY_zlU8LDAM-",
        "outputId": "8aed8ff4-d629-42f1-9636-3f9f9b985151"
      },
      "source": [
        "# DataFrame\n",
        "area_dict = {'C':234, 'T':456, 'N':789}\n",
        "area = pd.Series(area_dict)\n",
        "\n",
        "states = pd.DataFrame({'population':population,'area':area})\n",
        "states"
      ],
      "execution_count": 20,
      "outputs": [
        {
          "output_type": "execute_result",
          "data": {
            "text/html": [
              "<div>\n",
              "<style scoped>\n",
              "    .dataframe tbody tr th:only-of-type {\n",
              "        vertical-align: middle;\n",
              "    }\n",
              "\n",
              "    .dataframe tbody tr th {\n",
              "        vertical-align: top;\n",
              "    }\n",
              "\n",
              "    .dataframe thead th {\n",
              "        text-align: right;\n",
              "    }\n",
              "</style>\n",
              "<table border=\"1\" class=\"dataframe\">\n",
              "  <thead>\n",
              "    <tr style=\"text-align: right;\">\n",
              "      <th></th>\n",
              "      <th>population</th>\n",
              "      <th>area</th>\n",
              "    </tr>\n",
              "  </thead>\n",
              "  <tbody>\n",
              "    <tr>\n",
              "      <th>C</th>\n",
              "      <td>123</td>\n",
              "      <td>234</td>\n",
              "    </tr>\n",
              "    <tr>\n",
              "      <th>T</th>\n",
              "      <td>244</td>\n",
              "      <td>456</td>\n",
              "    </tr>\n",
              "    <tr>\n",
              "      <th>N</th>\n",
              "      <td>142</td>\n",
              "      <td>789</td>\n",
              "    </tr>\n",
              "  </tbody>\n",
              "</table>\n",
              "</div>"
            ],
            "text/plain": [
              "   population  area\n",
              "C         123   234\n",
              "T         244   456\n",
              "N         142   789"
            ]
          },
          "metadata": {},
          "execution_count": 20
        }
      ]
    },
    {
      "cell_type": "code",
      "metadata": {
        "colab": {
          "base_uri": "https://localhost:8080/"
        },
        "id": "7KyPmGcHEFKN",
        "outputId": "51dee8b0-4608-4018-8aed-0c7ddca190b7"
      },
      "source": [
        "states.index"
      ],
      "execution_count": 21,
      "outputs": [
        {
          "output_type": "execute_result",
          "data": {
            "text/plain": [
              "Index(['C', 'T', 'N'], dtype='object')"
            ]
          },
          "metadata": {},
          "execution_count": 21
        }
      ]
    },
    {
      "cell_type": "code",
      "metadata": {
        "colab": {
          "base_uri": "https://localhost:8080/"
        },
        "id": "WRpWtKPPEXKb",
        "outputId": "0694bf6b-26ca-4abc-ea17-c3ee08a56536"
      },
      "source": [
        "states.columns"
      ],
      "execution_count": 22,
      "outputs": [
        {
          "output_type": "execute_result",
          "data": {
            "text/plain": [
              "Index(['population', 'area'], dtype='object')"
            ]
          },
          "metadata": {},
          "execution_count": 22
        }
      ]
    },
    {
      "cell_type": "code",
      "metadata": {
        "colab": {
          "base_uri": "https://localhost:8080/",
          "height": 80
        },
        "id": "Ws7GjfdQEdkJ",
        "outputId": "f570d393-27cb-4dac-9092-2b64ed4795d5"
      },
      "source": [
        "pd.DataFrame(population,index = ['T'],columns = ['population']) # columns 지정 안하면 0으로 나옴 # 누락값은 NaN으로 채움"
      ],
      "execution_count": 24,
      "outputs": [
        {
          "output_type": "execute_result",
          "data": {
            "text/html": [
              "<div>\n",
              "<style scoped>\n",
              "    .dataframe tbody tr th:only-of-type {\n",
              "        vertical-align: middle;\n",
              "    }\n",
              "\n",
              "    .dataframe tbody tr th {\n",
              "        vertical-align: top;\n",
              "    }\n",
              "\n",
              "    .dataframe thead th {\n",
              "        text-align: right;\n",
              "    }\n",
              "</style>\n",
              "<table border=\"1\" class=\"dataframe\">\n",
              "  <thead>\n",
              "    <tr style=\"text-align: right;\">\n",
              "      <th></th>\n",
              "      <th>population</th>\n",
              "    </tr>\n",
              "  </thead>\n",
              "  <tbody>\n",
              "    <tr>\n",
              "      <th>T</th>\n",
              "      <td>244</td>\n",
              "    </tr>\n",
              "  </tbody>\n",
              "</table>\n",
              "</div>"
            ],
            "text/plain": [
              "   population\n",
              "T         244"
            ]
          },
          "metadata": {},
          "execution_count": 24
        }
      ]
    },
    {
      "cell_type": "code",
      "metadata": {
        "colab": {
          "base_uri": "https://localhost:8080/"
        },
        "id": "1wBq7UzuE-yt",
        "outputId": "a2b438c9-55ed-459a-b88a-50448420fada"
      },
      "source": [
        "# index 객체 # 불변 배열\n",
        "ind = pd.Index([2,3,4,5])\n",
        "ind"
      ],
      "execution_count": 25,
      "outputs": [
        {
          "output_type": "execute_result",
          "data": {
            "text/plain": [
              "Int64Index([2, 3, 4, 5], dtype='int64')"
            ]
          },
          "metadata": {},
          "execution_count": 25
        }
      ]
    },
    {
      "cell_type": "code",
      "metadata": {
        "colab": {
          "base_uri": "https://localhost:8080/"
        },
        "id": "r9R6TUE6GOxd",
        "outputId": "99e1a878-e43f-4ac6-b0da-109660d6977c"
      },
      "source": [
        "print(ind.size, ind.shape, ind.ndim, ind.dtype) # ndim 차원 "
      ],
      "execution_count": 26,
      "outputs": [
        {
          "output_type": "stream",
          "name": "stdout",
          "text": [
            "4 (4,) 1 int64\n"
          ]
        }
      ]
    },
    {
      "cell_type": "code",
      "metadata": {
        "colab": {
          "base_uri": "https://localhost:8080/"
        },
        "id": "KCgZoQ3hGZrJ",
        "outputId": "f9cbd0e9-df6c-4fbb-da3f-9725286a2c6e"
      },
      "source": [
        "ind1 = pd.Index([1,2,3])\n",
        "ind2 = pd.Index([4,5,6])\n",
        "\n",
        "ind1 & ind2 # 교집합"
      ],
      "execution_count": 27,
      "outputs": [
        {
          "output_type": "execute_result",
          "data": {
            "text/plain": [
              "Int64Index([], dtype='int64')"
            ]
          },
          "metadata": {},
          "execution_count": 27
        }
      ]
    },
    {
      "cell_type": "code",
      "metadata": {
        "colab": {
          "base_uri": "https://localhost:8080/"
        },
        "id": "8zufs5zpHCD_",
        "outputId": "70fcd7f1-b16e-402c-d177-ee33b5c77232"
      },
      "source": [
        "ind1 | ind2 # 합집합"
      ],
      "execution_count": 28,
      "outputs": [
        {
          "output_type": "execute_result",
          "data": {
            "text/plain": [
              "Int64Index([1, 2, 3, 4, 5, 6], dtype='int64')"
            ]
          },
          "metadata": {},
          "execution_count": 28
        }
      ]
    },
    {
      "cell_type": "code",
      "metadata": {
        "colab": {
          "base_uri": "https://localhost:8080/"
        },
        "id": "RNH4CBz8HHWI",
        "outputId": "e1222209-7007-4e06-a2b8-36e13d0ade31"
      },
      "source": [
        "ind1 ^ ind2 # 대칭 차 (두 집합의 상대 여집합의 합)"
      ],
      "execution_count": 29,
      "outputs": [
        {
          "output_type": "execute_result",
          "data": {
            "text/plain": [
              "Int64Index([1, 2, 3, 4, 5, 6], dtype='int64')"
            ]
          },
          "metadata": {},
          "execution_count": 29
        }
      ]
    },
    {
      "cell_type": "code",
      "metadata": {
        "colab": {
          "base_uri": "https://localhost:8080/"
        },
        "id": "Gjq_resFHLIX",
        "outputId": "811a158f-2018-46a3-a651-93702b4aa2ca"
      },
      "source": [
        "# 인덱서\n",
        "  # loc : 인덱스 이름 사용\n",
        "  # iloc : 정수형 인덱스, 범위 끝 제외\n",
        "\n",
        "states['area']"
      ],
      "execution_count": 32,
      "outputs": [
        {
          "output_type": "execute_result",
          "data": {
            "text/plain": [
              "C    234\n",
              "T    456\n",
              "N    789\n",
              "Name: area, dtype: int64"
            ]
          },
          "metadata": {},
          "execution_count": 32
        }
      ]
    },
    {
      "cell_type": "code",
      "metadata": {
        "colab": {
          "base_uri": "https://localhost:8080/"
        },
        "id": "lVIKYociIat6",
        "outputId": "c14454f9-6fdc-4393-ea9a-5936149f79d7"
      },
      "source": [
        "states.area"
      ],
      "execution_count": 33,
      "outputs": [
        {
          "output_type": "execute_result",
          "data": {
            "text/plain": [
              "C    234\n",
              "T    456\n",
              "N    789\n",
              "Name: area, dtype: int64"
            ]
          },
          "metadata": {},
          "execution_count": 33
        }
      ]
    },
    {
      "cell_type": "code",
      "metadata": {
        "colab": {
          "base_uri": "https://localhost:8080/",
          "height": 111
        },
        "id": "vhEFB2KOIdH1",
        "outputId": "1328644a-dcf6-4440-954c-5475fce0b271"
      },
      "source": [
        "states.T # 행, 열 바꾸기"
      ],
      "execution_count": 34,
      "outputs": [
        {
          "output_type": "execute_result",
          "data": {
            "text/html": [
              "<div>\n",
              "<style scoped>\n",
              "    .dataframe tbody tr th:only-of-type {\n",
              "        vertical-align: middle;\n",
              "    }\n",
              "\n",
              "    .dataframe tbody tr th {\n",
              "        vertical-align: top;\n",
              "    }\n",
              "\n",
              "    .dataframe thead th {\n",
              "        text-align: right;\n",
              "    }\n",
              "</style>\n",
              "<table border=\"1\" class=\"dataframe\">\n",
              "  <thead>\n",
              "    <tr style=\"text-align: right;\">\n",
              "      <th></th>\n",
              "      <th>C</th>\n",
              "      <th>T</th>\n",
              "      <th>N</th>\n",
              "    </tr>\n",
              "  </thead>\n",
              "  <tbody>\n",
              "    <tr>\n",
              "      <th>population</th>\n",
              "      <td>123</td>\n",
              "      <td>244</td>\n",
              "      <td>142</td>\n",
              "    </tr>\n",
              "    <tr>\n",
              "      <th>area</th>\n",
              "      <td>234</td>\n",
              "      <td>456</td>\n",
              "      <td>789</td>\n",
              "    </tr>\n",
              "  </tbody>\n",
              "</table>\n",
              "</div>"
            ],
            "text/plain": [
              "              C    T    N\n",
              "population  123  244  142\n",
              "area        234  456  789"
            ]
          },
          "metadata": {},
          "execution_count": 34
        }
      ]
    },
    {
      "cell_type": "code",
      "metadata": {
        "colab": {
          "base_uri": "https://localhost:8080/"
        },
        "id": "YyYNbz-1IsIu",
        "outputId": "1459164c-cce7-40f4-fc39-ea60f83a0e09"
      },
      "source": [
        "states.values # series로 변환"
      ],
      "execution_count": 36,
      "outputs": [
        {
          "output_type": "execute_result",
          "data": {
            "text/plain": [
              "array([[123, 234],\n",
              "       [244, 456],\n",
              "       [142, 789]])"
            ]
          },
          "metadata": {},
          "execution_count": 36
        }
      ]
    },
    {
      "cell_type": "code",
      "metadata": {
        "colab": {
          "base_uri": "https://localhost:8080/",
          "height": 141
        },
        "id": "OuJokh6SI5xI",
        "outputId": "5a983275-eb57-42a8-f311-fdcaecea4677"
      },
      "source": [
        "states.iloc[:3,:1] # 행, 열"
      ],
      "execution_count": 37,
      "outputs": [
        {
          "output_type": "execute_result",
          "data": {
            "text/html": [
              "<div>\n",
              "<style scoped>\n",
              "    .dataframe tbody tr th:only-of-type {\n",
              "        vertical-align: middle;\n",
              "    }\n",
              "\n",
              "    .dataframe tbody tr th {\n",
              "        vertical-align: top;\n",
              "    }\n",
              "\n",
              "    .dataframe thead th {\n",
              "        text-align: right;\n",
              "    }\n",
              "</style>\n",
              "<table border=\"1\" class=\"dataframe\">\n",
              "  <thead>\n",
              "    <tr style=\"text-align: right;\">\n",
              "      <th></th>\n",
              "      <th>population</th>\n",
              "    </tr>\n",
              "  </thead>\n",
              "  <tbody>\n",
              "    <tr>\n",
              "      <th>C</th>\n",
              "      <td>123</td>\n",
              "    </tr>\n",
              "    <tr>\n",
              "      <th>T</th>\n",
              "      <td>244</td>\n",
              "    </tr>\n",
              "    <tr>\n",
              "      <th>N</th>\n",
              "      <td>142</td>\n",
              "    </tr>\n",
              "  </tbody>\n",
              "</table>\n",
              "</div>"
            ],
            "text/plain": [
              "   population\n",
              "C         123\n",
              "T         244\n",
              "N         142"
            ]
          },
          "metadata": {},
          "execution_count": 37
        }
      ]
    },
    {
      "cell_type": "code",
      "metadata": {
        "colab": {
          "base_uri": "https://localhost:8080/"
        },
        "id": "6Y3RQLTyJX1i",
        "outputId": "02ea8684-5e8c-44d0-9319-ed90cc0fa8ed"
      },
      "source": [
        "# series 연산 (DataFrame도 가능)\n",
        "student1 = pd.Series({'국어':90,'수학':50})\n",
        "student2 = pd.Series({'국어':50,'수학':90})\n",
        "student1+student2"
      ],
      "execution_count": 39,
      "outputs": [
        {
          "output_type": "execute_result",
          "data": {
            "text/plain": [
              "국어    140\n",
              "수학    140\n",
              "dtype: int64"
            ]
          },
          "metadata": {},
          "execution_count": 39
        }
      ]
    },
    {
      "cell_type": "code",
      "metadata": {
        "colab": {
          "base_uri": "https://localhost:8080/"
        },
        "id": "8R9RMTgwKOpW",
        "outputId": "cdc6b34d-7c9c-4bfc-a740-ac35846f58ad"
      },
      "source": [
        "# + add\n",
        "# - sub\n",
        "# * mul\n",
        "# / div\n",
        "# NaN -> fill_valus = 0\n",
        "\n",
        "student1 = pd.Series({'국어':np.nan,'수학':50})\n",
        "student2 = pd.Series({'국어':50,'수학':90})\n",
        "student1.add(student2, fill_value=0)"
      ],
      "execution_count": 41,
      "outputs": [
        {
          "output_type": "execute_result",
          "data": {
            "text/plain": [
              "국어     50.0\n",
              "수학    140.0\n",
              "dtype: float64"
            ]
          },
          "metadata": {},
          "execution_count": 41
        }
      ]
    }
  ]
}
