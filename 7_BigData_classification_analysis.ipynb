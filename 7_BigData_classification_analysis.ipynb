{
  "nbformat": 4,
  "nbformat_minor": 0,
  "metadata": {
    "colab": {
      "name": "7_BigData_classification_analysis.ipynb",
      "provenance": [],
      "authorship_tag": "ABX9TyPLUYM1n2jp/EwrdQ/CzAO8"
    },
    "kernelspec": {
      "name": "python3",
      "display_name": "Python 3"
    },
    "language_info": {
      "name": "python"
    }
  },
  "cells": [
    {
      "cell_type": "markdown",
      "metadata": {
        "id": "Xl6gR7a56iiw"
      },
      "source": [
        "#빅데이터 분류분석\n",
        "\n",
        "---\n",
        "\n"
      ]
    },
    {
      "cell_type": "markdown",
      "metadata": {
        "id": "NEdFLEHf7B7D"
      },
      "source": [
        "1. 분류분석\n",
        "\n",
        "레이블 데이터가 있으면 지도학습\n",
        "\n",
        "-회귀분석 : 레이블 데이터가 연속적\n",
        "\n",
        "-분류분석 : 이산적 A or B -> 구분하는 선 예측"
      ]
    },
    {
      "cell_type": "code",
      "metadata": {
        "colab": {
          "base_uri": "https://localhost:8080/"
        },
        "id": "eSyrp1k__XVY",
        "outputId": "9414626b-6fa2-4014-f277-5ed6bc9f5ad8"
      },
      "source": [
        "# 붓꽃 외형 데이터로 부터 품종 예측 모델 만들기\n",
        "\n",
        "from sklearn import datasets\n",
        "iris = datasets.load_iris()\n",
        "\n",
        "from sklearn.naive_bayes import GaussianNB # 모델 클래스 : 가우스 분포(정규분포와 동일)\n",
        "model = GaussianNB() # 모델 인스턴스화 : 가우스는 초모수 필요 없음\n",
        "\n",
        "# 모델 분할\n",
        "from sklearn.model_selection import train_test_split\n",
        "X_iris,y_iris = iris.data,iris.target\n",
        "Xtrain,Xtest,ytrain,ytest = train_test_split(X_iris,y_iris,test_size = 0.24,random_state=1)\n",
        "model.fit(Xtrain,ytrain) # 데이터에 모델 적합\n",
        "y_model = model.predict(Xtest) # 모델 적용\n",
        "\n",
        "# 모델 정확도 확인\n",
        "from sklearn.metrics import accuracy_score\n",
        "accuracy_score(ytest,y_model)"
      ],
      "execution_count": 17,
      "outputs": [
        {
          "output_type": "execute_result",
          "data": {
            "text/plain": [
              "0.9444444444444444"
            ]
          },
          "metadata": {},
          "execution_count": 17
        }
      ]
    },
    {
      "cell_type": "markdown",
      "metadata": {
        "id": "4GYGvKD2DCyZ"
      },
      "source": [
        "2. 초모수와 모델 검증\n",
        "\n",
        "데이터 분할 검증: 훈련용 데이터는 훈련에만, 검증용 데이터는 검증에만\n",
        "\n",
        "데이터 양 부족하다면 -> 교차검증(훈련,검증 역할 바꾸어 반복 실시)\n",
        "\n",
        "5겹 교차 검증 cross_val_score 함수\n",
        "\n",
        "단일 관측치 제거 방식 교차 검증: 데이터 수가 극도로 적어 1개 데이터만 검증 데이터로 사용"
      ]
    },
    {
      "cell_type": "code",
      "metadata": {
        "id": "Sy7TMQuAIo-V"
      },
      "source": [
        "3. 분류 심화: 나이브 베이즈 기법\n",
        "\n",
        "베이즈 분류: 관측된 특징이 주어졌을때 레이블의 확률 계산\n",
        "\n",
        "생성모델: 각 레이블에 대한 특징 데이터의 확률값을 계산할 수 있는 모델"
      ],
      "execution_count": null,
      "outputs": []
    }
  ]
}